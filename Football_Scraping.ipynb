{
 "cells": [
  {
   "cell_type": "code",
   "execution_count": 53,
   "metadata": {},
   "outputs": [],
   "source": [
    "import http.client\n",
    "import json\n",
    "import pandas as pd\n",
    "from pandas.io.json import json_normalize\n",
    "import io"
   ]
  },
  {
   "cell_type": "code",
   "execution_count": 72,
   "metadata": {},
   "outputs": [],
   "source": [
    "league_codes = {\n",
    "    \"Champions_League\": 2001,\n",
    "    \"Primera_Division\": 2014,\n",
    "    \"Bundesliga\": 2002,\n",
    "    \"Premier_League\":2021,\n",
    "    \"Serie_A\": 2019,\n",
    "    \"Ligue_1\":2015\n",
    "}"
   ]
  },
  {
   "cell_type": "markdown",
   "metadata": {},
   "source": [
    "Create a loop in order to get the data from the relevant leagues using the dictionary league_codes and save the raw json in a txt file separately for the different leagues. Then I used the output and feeded a 3rd party software that translates json to csv. It can also be done in python, but it is nested into many levels and it proved hard to normalize and flatten it."
   ]
  },
  {
   "cell_type": "code",
   "execution_count": 58,
   "metadata": {},
   "outputs": [],
   "source": [
    "for name,code in league_codes.items():\n",
    "    connection = http.client.HTTPConnection('api.football-data.org')\n",
    "    headers = { 'X-Auth-Token': 'b609904fbfc44877b6359d54d7f19ddf' }\n",
    "    connection.request('GET', 'http://api.football-data.org/v2/competitions/%d/matches?season=2017'%(code), None, headers )\n",
    "    response2 = json.dumps(connection.getresponse().read().decode())\n",
    "    dff = json.loads(response2)\n",
    "    with io.open('C:\\\\Users\\\\makar\\\\.spyder-py3\\\\Football\\\\%s.txt'%(name), \"a\", encoding=\"utf-8\") as f:\n",
    "        f.write(dff)\n"
   ]
  },
  {
   "cell_type": "markdown",
   "metadata": {},
   "source": [
    "Here I've included some of the tries with the json to flatten it:"
   ]
  },
  {
   "cell_type": "code",
   "execution_count": 71,
   "metadata": {},
   "outputs": [
    {
     "data": {
      "text/html": [
       "<div>\n",
       "<style scoped>\n",
       "    .dataframe tbody tr th:only-of-type {\n",
       "        vertical-align: middle;\n",
       "    }\n",
       "\n",
       "    .dataframe tbody tr th {\n",
       "        vertical-align: top;\n",
       "    }\n",
       "\n",
       "    .dataframe thead th {\n",
       "        text-align: right;\n",
       "    }\n",
       "</style>\n",
       "<table border=\"1\" class=\"dataframe\">\n",
       "  <thead>\n",
       "    <tr style=\"text-align: right;\">\n",
       "      <th></th>\n",
       "      <th>0</th>\n",
       "    </tr>\n",
       "  </thead>\n",
       "  <tbody>\n",
       "    <tr>\n",
       "      <th>count</th>\n",
       "      <td>380</td>\n",
       "    </tr>\n",
       "    <tr>\n",
       "      <th>filters</th>\n",
       "      <td>{}</td>\n",
       "    </tr>\n",
       "    <tr>\n",
       "      <th>competition</th>\n",
       "      <td>{'id': 2015, 'area': {'id': 2081, 'name': 'Fra...</td>\n",
       "    </tr>\n",
       "    <tr>\n",
       "      <th>matches</th>\n",
       "      <td>[{'id': 203463, 'season': {'id': 17, 'startDat...</td>\n",
       "    </tr>\n",
       "  </tbody>\n",
       "</table>\n",
       "</div>"
      ],
      "text/plain": [
       "                                                             0\n",
       "count                                                      380\n",
       "filters                                                     {}\n",
       "competition  {'id': 2015, 'area': {'id': 2081, 'name': 'Fra...\n",
       "matches      [{'id': 203463, 'season': {'id': 17, 'startDat..."
      ]
     },
     "execution_count": 71,
     "metadata": {},
     "output_type": "execute_result"
    }
   ],
   "source": [
    "data = pd.DataFrame.from_dict(dff2, orient='index')\n",
    "data"
   ]
  },
  {
   "cell_type": "code",
   "execution_count": 60,
   "metadata": {},
   "outputs": [
    {
     "name": "stdout",
     "output_type": "stream",
     "text": [
      "<class 'str'>\n",
      "<class 'dict'>\n"
     ]
    }
   ],
   "source": [
    "dff2=json.loads(dff)\n",
    "#As we see, the dff object is string, the dff2 object is translated to dictionary object, so python can work with it.\n",
    "print(type(dff))\n",
    "print(type(dff2))"
   ]
  },
  {
   "cell_type": "code",
   "execution_count": 62,
   "metadata": {},
   "outputs": [
    {
     "name": "stdout",
     "output_type": "stream",
     "text": [
      "                             awayTeam           group  \\\n",
      "0  {'id': 511, 'name': 'Toulouse FC'}  Regular Season   \n",
      "\n",
      "                              homeTeam      id           lastUpdated  \\\n",
      "0  {'id': 548, 'name': 'AS Monaco FC'}  203463  2018-06-22T10:02:34Z   \n",
      "\n",
      "   matchday                                           referees  \\\n",
      "0         1  [{'id': 9374, 'name': 'Clément Turpin', 'natio...   \n",
      "\n",
      "                                               score  \\\n",
      "0  {'winner': 'HOME_TEAM', 'duration': 'REGULAR',...   \n",
      "\n",
      "                                              season           stage  \\\n",
      "0  {'id': 17, 'startDate': '2017-08-04', 'endDate...  REGULAR_SEASON   \n",
      "\n",
      "     status               utcDate  \n",
      "0  FINISHED  2017-08-04T18:45:00Z  \n"
     ]
    }
   ],
   "source": [
    "#Here I use the json_normalize with the record_path=... in order to access the nested dictionary, but we can see,\n",
    "#that there are still some elements, that don't work out well, so I decided to quit and use the converter.\n",
    "\n",
    "df = json_normalize(dff2,record_path=['matches'])\n",
    "print(df.head(1))"
   ]
  },
  {
   "cell_type": "code",
   "execution_count": 66,
   "metadata": {},
   "outputs": [
    {
     "data": {
      "text/html": [
       "<div>\n",
       "<style scoped>\n",
       "    .dataframe tbody tr th:only-of-type {\n",
       "        vertical-align: middle;\n",
       "    }\n",
       "\n",
       "    .dataframe tbody tr th {\n",
       "        vertical-align: top;\n",
       "    }\n",
       "\n",
       "    .dataframe thead th {\n",
       "        text-align: right;\n",
       "    }\n",
       "</style>\n",
       "<table border=\"1\" class=\"dataframe\">\n",
       "  <thead>\n",
       "    <tr style=\"text-align: right;\">\n",
       "      <th></th>\n",
       "      <th>id</th>\n",
       "      <th>name</th>\n",
       "      <th>nationality</th>\n",
       "    </tr>\n",
       "  </thead>\n",
       "  <tbody>\n",
       "    <tr>\n",
       "      <th>0</th>\n",
       "      <td>9374</td>\n",
       "      <td>Clément Turpin</td>\n",
       "      <td>None</td>\n",
       "    </tr>\n",
       "    <tr>\n",
       "      <th>1</th>\n",
       "      <td>57029</td>\n",
       "      <td>Huseyin Ocak</td>\n",
       "      <td>None</td>\n",
       "    </tr>\n",
       "    <tr>\n",
       "      <th>2</th>\n",
       "      <td>57030</td>\n",
       "      <td>Gilles Lang</td>\n",
       "      <td>None</td>\n",
       "    </tr>\n",
       "    <tr>\n",
       "      <th>3</th>\n",
       "      <td>57031</td>\n",
       "      <td>Alexandre Perreau Niel</td>\n",
       "      <td>None</td>\n",
       "    </tr>\n",
       "    <tr>\n",
       "      <th>4</th>\n",
       "      <td>57033</td>\n",
       "      <td>Mikael Lesage</td>\n",
       "      <td>None</td>\n",
       "    </tr>\n",
       "  </tbody>\n",
       "</table>\n",
       "</div>"
      ],
      "text/plain": [
       "      id                    name nationality\n",
       "0   9374          Clément Turpin        None\n",
       "1  57029            Huseyin Ocak        None\n",
       "2  57030             Gilles Lang        None\n",
       "3  57031  Alexandre Perreau Niel        None\n",
       "4  57033           Mikael Lesage        None"
      ]
     },
     "execution_count": 66,
     "metadata": {},
     "output_type": "execute_result"
    }
   ],
   "source": [
    "#I can create a df for referees and for away teams and etc, but it is too time consuming and therefore I went for the \n",
    "#option with the converter:\n",
    "\n",
    "df = json_normalize(dff2,record_path=['matches','referees'])\n",
    "df.head()"
   ]
  }
 ],
 "metadata": {
  "kernelspec": {
   "display_name": "Python 3",
   "language": "python",
   "name": "python3"
  },
  "language_info": {
   "codemirror_mode": {
    "name": "ipython",
    "version": 3
   },
   "file_extension": ".py",
   "mimetype": "text/x-python",
   "name": "python",
   "nbconvert_exporter": "python",
   "pygments_lexer": "ipython3",
   "version": "3.6.5"
  }
 },
 "nbformat": 4,
 "nbformat_minor": 2
}
