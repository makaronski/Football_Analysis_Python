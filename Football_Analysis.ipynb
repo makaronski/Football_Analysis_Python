{
 "cells": [
  {
   "cell_type": "code",
   "execution_count": 77,
   "metadata": {},
   "outputs": [],
   "source": [
    "import pandas as pd\n",
    "import numpy as np\n",
    "import matplotlib.pyplot as plt\n",
    "import seaborn as sns\n",
    "%matplotlib inline"
   ]
  },
  {
   "cell_type": "code",
   "execution_count": 26,
   "metadata": {},
   "outputs": [
    {
     "data": {
      "text/html": [
       "<div>\n",
       "<style scoped>\n",
       "    .dataframe tbody tr th:only-of-type {\n",
       "        vertical-align: middle;\n",
       "    }\n",
       "\n",
       "    .dataframe tbody tr th {\n",
       "        vertical-align: top;\n",
       "    }\n",
       "\n",
       "    .dataframe thead th {\n",
       "        text-align: right;\n",
       "    }\n",
       "</style>\n",
       "<table border=\"1\" class=\"dataframe\">\n",
       "  <thead>\n",
       "    <tr style=\"text-align: right;\">\n",
       "      <th></th>\n",
       "      <th>id</th>\n",
       "      <th>season/id</th>\n",
       "      <th>season/startDate</th>\n",
       "      <th>season/endDate</th>\n",
       "      <th>season/currentMatchday</th>\n",
       "      <th>utcDate</th>\n",
       "      <th>status</th>\n",
       "      <th>matchday</th>\n",
       "      <th>stage</th>\n",
       "      <th>group</th>\n",
       "      <th>...</th>\n",
       "      <th>score/halfTime/awayTeam</th>\n",
       "      <th>referees/0/id</th>\n",
       "      <th>referees/0/name</th>\n",
       "      <th>referees/1/id</th>\n",
       "      <th>referees/1/name</th>\n",
       "      <th>referees/2/id</th>\n",
       "      <th>referees/2/name</th>\n",
       "      <th>referees/3/id</th>\n",
       "      <th>referees/3/name</th>\n",
       "      <th>league_code</th>\n",
       "    </tr>\n",
       "  </thead>\n",
       "  <tbody>\n",
       "    <tr>\n",
       "      <th>0</th>\n",
       "      <td>205156</td>\n",
       "      <td>23</td>\n",
       "      <td>2017-08-11</td>\n",
       "      <td>2018-05-13</td>\n",
       "      <td>38</td>\n",
       "      <td>2017-08-11T18:45:00Z</td>\n",
       "      <td>FINISHED</td>\n",
       "      <td>1</td>\n",
       "      <td>REGULAR_SEASON</td>\n",
       "      <td>Regular Season</td>\n",
       "      <td>...</td>\n",
       "      <td>2</td>\n",
       "      <td>11575</td>\n",
       "      <td>Mike Dean</td>\n",
       "      <td>11504</td>\n",
       "      <td>Simon Long</td>\n",
       "      <td>11576</td>\n",
       "      <td>Darren Cann</td>\n",
       "      <td>11479</td>\n",
       "      <td>Lee Mason</td>\n",
       "      <td>1</td>\n",
       "    </tr>\n",
       "    <tr>\n",
       "      <th>1</th>\n",
       "      <td>205157</td>\n",
       "      <td>23</td>\n",
       "      <td>2017-08-11</td>\n",
       "      <td>2018-05-13</td>\n",
       "      <td>38</td>\n",
       "      <td>2017-08-12T11:30:00Z</td>\n",
       "      <td>FINISHED</td>\n",
       "      <td>1</td>\n",
       "      <td>REGULAR_SEASON</td>\n",
       "      <td>Regular Season</td>\n",
       "      <td>...</td>\n",
       "      <td>1</td>\n",
       "      <td>11580</td>\n",
       "      <td>Anthony Taylor</td>\n",
       "      <td>11581</td>\n",
       "      <td>Gary Beswick</td>\n",
       "      <td>11552</td>\n",
       "      <td>Peter Kirkup</td>\n",
       "      <td>11520</td>\n",
       "      <td>Paul Tierney</td>\n",
       "      <td>1</td>\n",
       "    </tr>\n",
       "    <tr>\n",
       "      <th>2</th>\n",
       "      <td>205158</td>\n",
       "      <td>23</td>\n",
       "      <td>2017-08-11</td>\n",
       "      <td>2018-05-13</td>\n",
       "      <td>38</td>\n",
       "      <td>2017-08-12T14:00:00Z</td>\n",
       "      <td>FINISHED</td>\n",
       "      <td>1</td>\n",
       "      <td>REGULAR_SEASON</td>\n",
       "      <td>Regular Season</td>\n",
       "      <td>...</td>\n",
       "      <td>3</td>\n",
       "      <td>11585</td>\n",
       "      <td>Craig Pawson</td>\n",
       "      <td>11586</td>\n",
       "      <td>Richard West</td>\n",
       "      <td>11530</td>\n",
       "      <td>Lee Betts</td>\n",
       "      <td>11479</td>\n",
       "      <td>Lee Mason</td>\n",
       "      <td>1</td>\n",
       "    </tr>\n",
       "    <tr>\n",
       "      <th>3</th>\n",
       "      <td>205159</td>\n",
       "      <td>23</td>\n",
       "      <td>2017-08-11</td>\n",
       "      <td>2018-05-13</td>\n",
       "      <td>38</td>\n",
       "      <td>2017-08-12T14:00:00Z</td>\n",
       "      <td>FINISHED</td>\n",
       "      <td>1</td>\n",
       "      <td>REGULAR_SEASON</td>\n",
       "      <td>Regular Season</td>\n",
       "      <td>...</td>\n",
       "      <td>0</td>\n",
       "      <td>11592</td>\n",
       "      <td>Niel Swarbrick</td>\n",
       "      <td>11570</td>\n",
       "      <td>Harry Lennard</td>\n",
       "      <td>11496</td>\n",
       "      <td>Mick McDonough</td>\n",
       "      <td>11287</td>\n",
       "      <td>Oliver Langford</td>\n",
       "      <td>1</td>\n",
       "    </tr>\n",
       "    <tr>\n",
       "      <th>4</th>\n",
       "      <td>205160</td>\n",
       "      <td>23</td>\n",
       "      <td>2017-08-11</td>\n",
       "      <td>2018-05-13</td>\n",
       "      <td>38</td>\n",
       "      <td>2017-08-12T14:00:00Z</td>\n",
       "      <td>FINISHED</td>\n",
       "      <td>1</td>\n",
       "      <td>REGULAR_SEASON</td>\n",
       "      <td>Regular Season</td>\n",
       "      <td>...</td>\n",
       "      <td>0</td>\n",
       "      <td>11529</td>\n",
       "      <td>Robert Madley</td>\n",
       "      <td>11531</td>\n",
       "      <td>Marc Perry</td>\n",
       "      <td>11595</td>\n",
       "      <td>Adrian Holmes</td>\n",
       "      <td>11543</td>\n",
       "      <td>Roger East</td>\n",
       "      <td>1</td>\n",
       "    </tr>\n",
       "  </tbody>\n",
       "</table>\n",
       "<p>5 rows × 30 columns</p>\n",
       "</div>"
      ],
      "text/plain": [
       "       id  season/id season/startDate season/endDate  season/currentMatchday  \\\n",
       "0  205156         23       2017-08-11     2018-05-13                      38   \n",
       "1  205157         23       2017-08-11     2018-05-13                      38   \n",
       "2  205158         23       2017-08-11     2018-05-13                      38   \n",
       "3  205159         23       2017-08-11     2018-05-13                      38   \n",
       "4  205160         23       2017-08-11     2018-05-13                      38   \n",
       "\n",
       "                utcDate    status  matchday           stage           group  \\\n",
       "0  2017-08-11T18:45:00Z  FINISHED         1  REGULAR_SEASON  Regular Season   \n",
       "1  2017-08-12T11:30:00Z  FINISHED         1  REGULAR_SEASON  Regular Season   \n",
       "2  2017-08-12T14:00:00Z  FINISHED         1  REGULAR_SEASON  Regular Season   \n",
       "3  2017-08-12T14:00:00Z  FINISHED         1  REGULAR_SEASON  Regular Season   \n",
       "4  2017-08-12T14:00:00Z  FINISHED         1  REGULAR_SEASON  Regular Season   \n",
       "\n",
       "      ...      score/halfTime/awayTeam  referees/0/id referees/0/name  \\\n",
       "0     ...                            2          11575       Mike Dean   \n",
       "1     ...                            1          11580  Anthony Taylor   \n",
       "2     ...                            3          11585    Craig Pawson   \n",
       "3     ...                            0          11592  Niel Swarbrick   \n",
       "4     ...                            0          11529   Robert Madley   \n",
       "\n",
       "   referees/1/id referees/1/name referees/2/id referees/2/name  referees/3/id  \\\n",
       "0          11504      Simon Long         11576     Darren Cann          11479   \n",
       "1          11581    Gary Beswick         11552    Peter Kirkup          11520   \n",
       "2          11586    Richard West         11530       Lee Betts          11479   \n",
       "3          11570   Harry Lennard         11496  Mick McDonough          11287   \n",
       "4          11531      Marc Perry         11595   Adrian Holmes          11543   \n",
       "\n",
       "   referees/3/name  league_code  \n",
       "0        Lee Mason            1  \n",
       "1     Paul Tierney            1  \n",
       "2        Lee Mason            1  \n",
       "3  Oliver Langford            1  \n",
       "4       Roger East            1  \n",
       "\n",
       "[5 rows x 30 columns]"
      ]
     },
     "execution_count": 26,
     "metadata": {},
     "output_type": "execute_result"
    }
   ],
   "source": [
    "df_epl = pd.read_excel('C:\\\\Users\\\\makar\\\\.spyder-py3\\\\Football\\\\Cleaned_Data\\\\Premier_League_2017-18.xlsx')\n",
    "\n",
    "#Add a column - unique ID for each league\n",
    "#epl_index = np.ones(df_epl.shape[0],dtype=int)\n",
    "df_epl['league_code'] = 1\n",
    "df_epl.head()"
   ]
  },
  {
   "cell_type": "code",
   "execution_count": 27,
   "metadata": {},
   "outputs": [
    {
     "data": {
      "text/plain": [
       "['id',\n",
       " 'season/id',\n",
       " 'season/startDate',\n",
       " 'season/endDate',\n",
       " 'season/currentMatchday',\n",
       " 'utcDate',\n",
       " 'status',\n",
       " 'matchday',\n",
       " 'stage',\n",
       " 'group',\n",
       " 'lastUpdated',\n",
       " 'homeTeam/id',\n",
       " 'homeTeam/name',\n",
       " 'awayTeam/id',\n",
       " 'awayTeam/name',\n",
       " 'score/winner',\n",
       " 'score/duration',\n",
       " 'score/fullTime/homeTeam',\n",
       " 'score/fullTime/awayTeam',\n",
       " 'score/halfTime/homeTeam',\n",
       " 'score/halfTime/awayTeam',\n",
       " 'referees/0/id',\n",
       " 'referees/0/name',\n",
       " 'referees/1/id',\n",
       " 'referees/1/name',\n",
       " 'referees/2/id',\n",
       " 'referees/2/name',\n",
       " 'referees/3/id',\n",
       " 'referees/3/name',\n",
       " 'league_code']"
      ]
     },
     "execution_count": 27,
     "metadata": {},
     "output_type": "execute_result"
    }
   ],
   "source": [
    "list(df_epl)"
   ]
  },
  {
   "cell_type": "code",
   "execution_count": 37,
   "metadata": {},
   "outputs": [
    {
     "name": "stdout",
     "output_type": "stream",
     "text": [
      "Premier League matches result in average 1.339 goals per game.\n"
     ]
    }
   ],
   "source": [
    "#Average goals per game:\n",
    "\n",
    "avg_epl=(df_epl['score/fullTime/homeTeam'].mean() + df_epl['score/fullTime/awayTeam'].mean())/2\n",
    "print(\"Premier League matches result in average \"+str(round(avg_epl,3))+\" goals per game.\")"
   ]
  },
  {
   "cell_type": "code",
   "execution_count": 59,
   "metadata": {},
   "outputs": [
    {
     "data": {
      "text/plain": [
       "homeTeam/name\n",
       "Manchester City FC           2.789474\n",
       "Liverpool FC                 2.210526\n",
       "Arsenal FC                   1.947368\n",
       "Tottenham Hotspur FC         1.947368\n",
       "Manchester United FC         1.789474\n",
       "Chelsea FC                   1.631579\n",
       "Leicester City FC            1.473684\n",
       "West Ham United FC           1.263158\n",
       "Crystal Palace FC            1.184211\n",
       "AFC Bournemouth              1.184211\n",
       "Everton FC                   1.157895\n",
       "Watford FC                   1.157895\n",
       "Newcastle United FC          1.026316\n",
       "Southampton FC               0.973684\n",
       "Burnley FC                   0.947368\n",
       "Stoke City FC                0.921053\n",
       "Brighton & Hove Albion FC    0.894737\n",
       "West Bromwich Albion FC      0.815789\n",
       "Swansea City AFC             0.736842\n",
       "Huddersfield Town AFC        0.736842\n",
       "dtype: float64"
      ]
     },
     "execution_count": 59,
     "metadata": {},
     "output_type": "execute_result"
    }
   ],
   "source": [
    "#Team that had most goals scored on average in a game:\n",
    "\n",
    "epl_home = df_epl.groupby('homeTeam/name')['score/fullTime/homeTeam'].mean()\n",
    "epl_away = df_epl.groupby('awayTeam/name')['score/fullTime/awayTeam'].mean()\n",
    "#type(epl_away)\n",
    "epl_top_scoring = epl_home.add(epl_away)\n",
    "epl_top_scoring = epl_top_scoring/2\n",
    "epl_top_scoring.sort_values(ascending=False)\n",
    "#print(epl_home,epl_away,epl_top_scoring)"
   ]
  },
  {
   "cell_type": "code",
   "execution_count": 63,
   "metadata": {},
   "outputs": [
    {
     "data": {
      "text/plain": [
       "homeTeam/name\n",
       "Manchester City FC           0.710526\n",
       "Manchester United FC         0.736842\n",
       "Tottenham Hotspur FC         0.947368\n",
       "Liverpool FC                 1.000000\n",
       "Chelsea FC                   1.000000\n",
       "Burnley FC                   1.026316\n",
       "Newcastle United FC          1.236842\n",
       "Arsenal FC                   1.342105\n",
       "Brighton & Hove Albion FC    1.421053\n",
       "Crystal Palace FC            1.447368\n",
       "Swansea City AFC             1.473684\n",
       "West Bromwich Albion FC      1.473684\n",
       "Southampton FC               1.473684\n",
       "Everton FC                   1.526316\n",
       "Huddersfield Town AFC        1.526316\n",
       "Leicester City FC            1.578947\n",
       "AFC Bournemouth              1.605263\n",
       "Watford FC                   1.684211\n",
       "Stoke City FC                1.789474\n",
       "West Ham United FC           1.789474\n",
       "dtype: float64"
      ]
     },
     "execution_count": 63,
     "metadata": {},
     "output_type": "execute_result"
    }
   ],
   "source": [
    "#Team that had least goals received on average in a game:\n",
    "\n",
    "epl_home_rec = df_epl.groupby('homeTeam/name')['score/fullTime/awayTeam'].mean()\n",
    "epl_away_rec = df_epl.groupby('awayTeam/name')['score/fullTime/homeTeam'].mean()\n",
    "\n",
    "epl_top_receiving = epl_home_rec.add(epl_away_rec)\n",
    "epl_top_receiving = epl_top_receiving/2\n",
    "epl_top_receiving.sort_values(ascending=True)"
   ]
  },
  {
   "cell_type": "code",
   "execution_count": 67,
   "metadata": {},
   "outputs": [
    {
     "data": {
      "text/plain": [
       "homeTeam/name\n",
       "Manchester City FC           3.500000\n",
       "Arsenal FC                   3.289474\n",
       "Liverpool FC                 3.210526\n",
       "Leicester City FC            3.052632\n",
       "West Ham United FC           3.052632\n",
       "Tottenham Hotspur FC         2.894737\n",
       "Watford FC                   2.842105\n",
       "AFC Bournemouth              2.789474\n",
       "Stoke City FC                2.710526\n",
       "Everton FC                   2.684211\n",
       "Chelsea FC                   2.631579\n",
       "Crystal Palace FC            2.631579\n",
       "Manchester United FC         2.526316\n",
       "Southampton FC               2.447368\n",
       "Brighton & Hove Albion FC    2.315789\n",
       "West Bromwich Albion FC      2.289474\n",
       "Newcastle United FC          2.263158\n",
       "Huddersfield Town AFC        2.263158\n",
       "Swansea City AFC             2.210526\n",
       "Burnley FC                   1.973684\n",
       "dtype: float64"
      ]
     },
     "execution_count": 67,
     "metadata": {},
     "output_type": "execute_result"
    }
   ],
   "source": [
    "#Teams involved in most goals per game (for+against):\n",
    "\n",
    "epl_top_overall = epl_top_receiving.add(epl_top_scoring)\n",
    "epl_top_overall.sort_values(ascending=False)"
   ]
  },
  {
   "cell_type": "code",
   "execution_count": 90,
   "metadata": {},
   "outputs": [
    {
     "data": {
      "text/plain": [
       "homeTeam/name\n",
       "Leicester City FC            0.894737\n",
       "West Ham United FC           0.868421\n",
       "Manchester City FC           0.842105\n",
       "Arsenal FC                   0.815789\n",
       "Liverpool FC                 0.815789\n",
       "Stoke City FC                0.789474\n",
       "Tottenham Hotspur FC         0.789474\n",
       "Everton FC                   0.789474\n",
       "AFC Bournemouth              0.789474\n",
       "Huddersfield Town AFC        0.736842\n",
       "Brighton & Hove Albion FC    0.736842\n",
       "Watford FC                   0.736842\n",
       "Crystal Palace FC            0.710526\n",
       "Southampton FC               0.684211\n",
       "Chelsea FC                   0.684211\n",
       "Manchester United FC         0.657895\n",
       "West Bromwich Albion FC      0.657895\n",
       "Swansea City AFC             0.631579\n",
       "Newcastle United FC          0.578947\n",
       "Burnley FC                   0.578947\n",
       "Name: over_1.5, dtype: float64"
      ]
     },
     "execution_count": 90,
     "metadata": {},
     "output_type": "execute_result"
    }
   ],
   "source": [
    "#Games, that ended with over 1.5 goals\n",
    "df_epl['over_1.5'] = np.where(df_epl['score/fullTime/homeTeam']+df_epl['score/fullTime/awayTeam']>1,1,0)\n",
    "\n",
    "#Teams with highest % of games over 1.5\n",
    "epl_games_over_h = df_epl.groupby('homeTeam/name')['over_1.5'].mean()\n",
    "epl_games_over_a = df_epl.groupby('awayTeam/name')['over_1.5'].mean()\n",
    "epl_games_over = (epl_games_over_h.add(epl_games_over_a))/2\n",
    "epl_games_over = epl_games_over.sort_values(ascending=False)\n",
    "epl_games_over"
   ]
  },
  {
   "cell_type": "code",
   "execution_count": 101,
   "metadata": {},
   "outputs": [
    {
     "data": {
      "image/png": "[encoded data removed]",
      "text/plain": [
       "<Figure size 720x576 with 1 Axes>"
      ]
     },
     "metadata": {},
     "output_type": "display_data"
    }
   ],
   "source": [
    "epl_games_over.plot(kind='barh',figsize=(10,8))\n",
    "plt.gca().invert_yaxis()\n",
    "plt.show()"
   ]
  }
 ],
 "metadata": {
  "kernelspec": {
   "display_name": "Python 3",
   "language": "python",
   "name": "python3"
  },
  "language_info": {
   "codemirror_mode": {
    "name": "ipython",
    "version": 3
   },
   "file_extension": ".py",
   "mimetype": "text/x-python",
   "name": "python",
   "nbconvert_exporter": "python",
   "pygments_lexer": "ipython3",
   "version": "3.6.5"
  }
 },
 "nbformat": 4,
 "nbformat_minor": 2
}
